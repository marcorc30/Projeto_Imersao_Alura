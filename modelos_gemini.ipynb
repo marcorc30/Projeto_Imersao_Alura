{
  "nbformat": 4,
  "nbformat_minor": 0,
  "metadata": {
    "colab": {
      "provenance": [],
      "authorship_tag": "ABX9TyOjawhPVKUKOHxibVwtP9ln",
      "include_colab_link": true
    },
    "kernelspec": {
      "name": "python3",
      "display_name": "Python 3"
    },
    "language_info": {
      "name": "python"
    }
  },
  "cells": [
    {
      "cell_type": "markdown",
      "metadata": {
        "id": "view-in-github",
        "colab_type": "text"
      },
      "source": [
        "<a href=\"https://colab.research.google.com/github/marcorc30/Projeto_Imersao_Aula_4/blob/main/modelos_gemini.ipynb\" target=\"_parent\"><img src=\"https://colab.research.google.com/assets/colab-badge.svg\" alt=\"Open In Colab\"/></a>"
      ]
    },
    {
      "cell_type": "markdown",
      "source": [
        "# Instalando o SDK do Google"
      ],
      "metadata": {
        "id": "cUtc7luvWsDU"
      }
    },
    {
      "cell_type": "code",
      "execution_count": 2,
      "metadata": {
        "id": "GukvUXvsRrkI"
      },
      "outputs": [],
      "source": [
        "# !pip install -q -U google-generativeai"
      ]
    },
    {
      "cell_type": "code",
      "source": [
        "import google.generativeai as genai\n",
        "\n",
        "GOOGLE_API_KEY=\"xxxxxxxxxxxxxxxxxxxxxxxxxxxxxxx\"\n",
        "genai.configure(api_key=GOOGLE_API_KEY)"
      ],
      "metadata": {
        "id": "gbmT-duZWAga"
      },
      "execution_count": 4,
      "outputs": []
    },
    {
      "cell_type": "markdown",
      "source": [
        "# Listando os modelos disponiveis\n",
        "\n",
        "* modelos pro => informa o texto e obtem a resposta\n",
        "* modelos vision => podemos mesclar audios, videos, textos\n",
        "\n",
        "--------------------------------------------------------\n",
        "\n",
        "* 1.0-pro => versao estavel\n",
        "* 1.0-pro-001 => versao experimental\n",
        "* latest => usa a ultima versao experimental do modelo"
      ],
      "metadata": {
        "id": "CUxVctJcW2sS"
      }
    },
    {
      "cell_type": "code",
      "source": [
        "for m in genai.list_models():\n",
        "  if 'generateContent' in m.supported_generation_methods:\n",
        "    print(m.name)"
      ],
      "metadata": {
        "colab": {
          "base_uri": "https://localhost:8080/",
          "height": 146
        },
        "id": "6OSwBvFNW_XT",
        "outputId": "c42966ae-28e1-47c4-b38d-ec9210915c59"
      },
      "execution_count": 6,
      "outputs": [
        {
          "output_type": "stream",
          "name": "stdout",
          "text": [
            "models/gemini-1.0-pro\n",
            "models/gemini-1.0-pro-001\n",
            "models/gemini-1.0-pro-latest\n",
            "models/gemini-1.0-pro-vision-latest\n",
            "models/gemini-1.5-pro-latest\n",
            "models/gemini-pro\n",
            "models/gemini-pro-vision\n"
          ]
        }
      ]
    },
    {
      "cell_type": "code",
      "source": [],
      "metadata": {
        "id": "COumyi4GXLRH"
      },
      "execution_count": null,
      "outputs": []
    },
    {
      "cell_type": "markdown",
      "source": [
        "# Parametrizando as variaveis"
      ],
      "metadata": {
        "id": "wqHOjUE_ZC2S"
      }
    },
    {
      "cell_type": "code",
      "source": [
        "# configurando os parametros\n",
        "generation_config = {\n",
        "    \"candidate_count\":1, #modelo pode dar mais de uma resposta, vamos escolher a primeira resposta\n",
        "    \"temperature\":0.5 # 0 -> modelo pouco criativo, 1-> modelo muito criativo\n",
        "\n",
        "}"
      ],
      "metadata": {
        "id": "pbfnoOM1ZGBH"
      },
      "execution_count": 7,
      "outputs": []
    },
    {
      "cell_type": "code",
      "source": [
        "# configuracoes de seguranca\n",
        "safety_settings = {\n",
        "    \"HARASSMENT\":\"BLOCK_NONE\",\n",
        "    \"HATE\":\"BLOCK_NONE\",\n",
        "    \"SEXUAL\":\"BLOCK_NONE\",\n",
        "    \"DANGEROUS\":\"BLOCK_NONE\"\n",
        "}"
      ],
      "metadata": {
        "id": "JqPXRdN7Z7Zl"
      },
      "execution_count": 12,
      "outputs": []
    },
    {
      "cell_type": "markdown",
      "source": [
        "# Inicializando o modelo"
      ],
      "metadata": {
        "id": "x2nPUxuubPYw"
      }
    },
    {
      "cell_type": "code",
      "source": [
        "model = genai.GenerativeModel(model_name=\"gemini-1.0-pro\", generation_config=generation_config, safety_settings=safety_settings)"
      ],
      "metadata": {
        "id": "ISNcS8SSbRJk"
      },
      "execution_count": 13,
      "outputs": []
    },
    {
      "cell_type": "code",
      "source": [
        "# testando o gemini\n",
        "# response = model.generate_content(\"Vamos aprender conteúdo sobre IA. Me dê sugestôes\")\n",
        "# print(response.text)"
      ],
      "metadata": {
        "id": "mfwZGyR3cBRD"
      },
      "execution_count": 15,
      "outputs": []
    },
    {
      "cell_type": "code",
      "source": [
        "chat = model.start_chat(history=[])"
      ],
      "metadata": {
        "id": "a0hT9rxqcntH"
      },
      "execution_count": 16,
      "outputs": []
    },
    {
      "cell_type": "code",
      "source": [
        "prompt = input(\"Esperando prompt:\")\n",
        "while (prompt != \"fim\"):\n",
        "  response = chat.send_message(prompt)\n",
        "  print(f'resposta: {response.text}')\n",
        "  prompt = input(\"Esperando prompt:\")\n",
        "\n"
      ],
      "metadata": {
        "colab": {
          "base_uri": "https://localhost:8080/",
          "height": 609
        },
        "id": "047p45SqdJUk",
        "outputId": "09be26ef-cb8e-42c2-ab05-f06b888fafff"
      },
      "execution_count": 18,
      "outputs": [
        {
          "name": "stdout",
          "output_type": "stream",
          "text": [
            "Esperando prompt:ola\n",
            "resposta: Olá! Como posso ajudá-lo hoje?\n",
            "Esperando prompt:Qual a capital do Japão\n",
            "resposta: Tóquio\n",
            "Esperando prompt:Qual é a comida típica desse país\n",
            "resposta: Sushi\n",
            "Esperando prompt:Meu cachorro foi picado por uma lacraia. O que devo fazer?\n",
            "resposta: **Passos a seguir se seu cachorro for picado por uma lacraia:**\n",
            "\n",
            "1. **Mantenha a calma:** É importante manter a calma para ajudar seu cachorro.\n",
            "\n",
            "2. **Remova a lacraia (se possível):** Se a lacraia ainda estiver presa ao seu cachorro, remova-a cuidadosamente usando uma pinça ou um pedaço de papelão.\n",
            "\n",
            "3. **Limpe a área da picada:** Limpe a área da picada com água morna e sabão antibacteriano.\n",
            "\n",
            "4. **Aplique gelo:** Aplique uma compressa de gelo na área da picada para reduzir o inchaço e a dor.\n",
            "\n",
            "5. **Monitore seu cachorro:** Observe seu cachorro de perto para quaisquer sinais de reação alérgica, como dificuldade para respirar, inchaço facial ou vômitos.\n",
            "\n",
            "6. **Leve seu cachorro ao veterinário:** Leve seu cachorro ao veterinário o mais rápido possível, mesmo que não pareça estar com muita dor. O veterinário pode avaliar a gravidade da picada, administrar medicamentos e fornecer instruções adicionais.\n",
            "\n",
            "**Sinais de uma reação alérgica grave:**\n",
            "\n",
            "* Dificuldade para respirar\n",
            "* Inchaço facial\n",
            "* Vômitos\n",
            "* Diarreia\n",
            "* Convulsões\n",
            "\n",
            "**Se seu cachorro apresentar algum desses sinais, procure atendimento veterinário de emergência imediatamente.**\n",
            "Esperando prompt:fim\n"
          ]
        }
      ]
    },
    {
      "cell_type": "code",
      "source": [
        "chat.history"
      ],
      "metadata": {
        "colab": {
          "base_uri": "https://localhost:8080/"
        },
        "id": "FZOQ0Sw_fg3b",
        "outputId": "84695740-223d-4102-e491-b5a7108a18a6"
      },
      "execution_count": 19,
      "outputs": [
        {
          "output_type": "execute_result",
          "data": {
            "text/plain": [
              "[parts {\n",
              "   text: \"ola\"\n",
              " }\n",
              " role: \"user\",\n",
              " parts {\n",
              "   text: \"Ol\\303\\241! Como posso ajud\\303\\241-lo hoje?\"\n",
              " }\n",
              " role: \"model\",\n",
              " parts {\n",
              "   text: \"Qual a capital do Jap\\303\\243o\"\n",
              " }\n",
              " role: \"user\",\n",
              " parts {\n",
              "   text: \"T\\303\\263quio\"\n",
              " }\n",
              " role: \"model\",\n",
              " parts {\n",
              "   text: \"Qual \\303\\251 a comida t\\303\\255pica desse pa\\303\\255s\"\n",
              " }\n",
              " role: \"user\",\n",
              " parts {\n",
              "   text: \"Sushi\"\n",
              " }\n",
              " role: \"model\",\n",
              " parts {\n",
              "   text: \"Meu cachorro foi picado por uma lacraia. O que devo fazer?\"\n",
              " }\n",
              " role: \"user\",\n",
              " parts {\n",
              "   text: \"**Passos a seguir se seu cachorro for picado por uma lacraia:**\\n\\n1. **Mantenha a calma:** \\303\\211 importante manter a calma para ajudar seu cachorro.\\n\\n2. **Remova a lacraia (se poss\\303\\255vel):** Se a lacraia ainda estiver presa ao seu cachorro, remova-a cuidadosamente usando uma pin\\303\\247a ou um peda\\303\\247o de papel\\303\\243o.\\n\\n3. **Limpe a \\303\\241rea da picada:** Limpe a \\303\\241rea da picada com \\303\\241gua morna e sab\\303\\243o antibacteriano.\\n\\n4. **Aplique gelo:** Aplique uma compressa de gelo na \\303\\241rea da picada para reduzir o incha\\303\\247o e a dor.\\n\\n5. **Monitore seu cachorro:** Observe seu cachorro de perto para quaisquer sinais de rea\\303\\247\\303\\243o al\\303\\251rgica, como dificuldade para respirar, incha\\303\\247o facial ou v\\303\\264mitos.\\n\\n6. **Leve seu cachorro ao veterin\\303\\241rio:** Leve seu cachorro ao veterin\\303\\241rio o mais r\\303\\241pido poss\\303\\255vel, mesmo que n\\303\\243o pare\\303\\247a estar com muita dor. O veterin\\303\\241rio pode avaliar a gravidade da picada, administrar medicamentos e fornecer instru\\303\\247\\303\\265es adicionais.\\n\\n**Sinais de uma rea\\303\\247\\303\\243o al\\303\\251rgica grave:**\\n\\n* Dificuldade para respirar\\n* Incha\\303\\247o facial\\n* V\\303\\264mitos\\n* Diarreia\\n* Convuls\\303\\265es\\n\\n**Se seu cachorro apresentar algum desses sinais, procure atendimento veterin\\303\\241rio de emerg\\303\\252ncia imediatamente.**\"\n",
              " }\n",
              " role: \"model\"]"
            ]
          },
          "metadata": {},
          "execution_count": 19
        }
      ]
    },
    {
      "cell_type": "code",
      "source": [],
      "metadata": {
        "id": "mKiHhh4kdYuh"
      },
      "execution_count": null,
      "outputs": []
    }
  ]
}