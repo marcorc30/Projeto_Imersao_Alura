{
  "nbformat": 4,
  "nbformat_minor": 0,
  "metadata": {
    "colab": {
      "provenance": [],
      "authorship_tag": "ABX9TyMYRa2ooKT3oH/JTSZWYzhm",
      "include_colab_link": true
    },
    "kernelspec": {
      "name": "python3",
      "display_name": "Python 3"
    },
    "language_info": {
      "name": "python"
    }
  },
  "cells": [
    {
      "cell_type": "markdown",
      "metadata": {
        "id": "view-in-github",
        "colab_type": "text"
      },
      "source": [
        "<a href=\"https://colab.research.google.com/github/marcorc30/Projeto_Imersao_Aula_4/blob/main/modelos_gemini.ipynb\" target=\"_parent\"><img src=\"https://colab.research.google.com/assets/colab-badge.svg\" alt=\"Open In Colab\"/></a>"
      ]
    },
    {
      "cell_type": "markdown",
      "source": [
        "# Instalando o SDK do Google"
      ],
      "metadata": {
        "id": "cUtc7luvWsDU"
      }
    },
    {
      "cell_type": "code",
      "execution_count": 2,
      "metadata": {
        "id": "GukvUXvsRrkI"
      },
      "outputs": [],
      "source": [
        "# !pip install -q -U google-generativeai"
      ]
    },
    {
      "cell_type": "code",
      "source": [
        "import google.generativeai as genai\n",
        "\n",
        "from google.colab import userdata\n",
        "\n",
        "GOOGLE_API_KEY=userdata.get('SECRET_KEY')\n",
        "genai.configure(api_key=GOOGLE_API_KEY)"
      ],
      "metadata": {
        "id": "gbmT-duZWAga"
      },
      "execution_count": 20,
      "outputs": []
    },
    {
      "cell_type": "markdown",
      "source": [
        "# Listando os modelos disponiveis\n",
        "\n",
        "* modelos pro => informa o texto e obtem a resposta\n",
        "* modelos vision => podemos mesclar audios, videos, textos\n",
        "\n",
        "--------------------------------------------------------\n",
        "\n",
        "* 1.0-pro => versao estavel\n",
        "* 1.0-pro-001 => versao experimental\n",
        "* latest => usa a ultima versao experimental do modelo"
      ],
      "metadata": {
        "id": "CUxVctJcW2sS"
      }
    },
    {
      "cell_type": "code",
      "source": [
        "for m in genai.list_models():\n",
        "  if 'generateContent' in m.supported_generation_methods:\n",
        "    print(m.name)"
      ],
      "metadata": {
        "colab": {
          "base_uri": "https://localhost:8080/",
          "height": 146
        },
        "id": "6OSwBvFNW_XT",
        "outputId": "e01081a9-29ba-4d9a-df5b-0457f221f91e"
      },
      "execution_count": 21,
      "outputs": [
        {
          "output_type": "stream",
          "name": "stdout",
          "text": [
            "models/gemini-1.0-pro\n",
            "models/gemini-1.0-pro-001\n",
            "models/gemini-1.0-pro-latest\n",
            "models/gemini-1.0-pro-vision-latest\n",
            "models/gemini-1.5-pro-latest\n",
            "models/gemini-pro\n",
            "models/gemini-pro-vision\n"
          ]
        }
      ]
    },
    {
      "cell_type": "code",
      "source": [],
      "metadata": {
        "id": "COumyi4GXLRH"
      },
      "execution_count": 21,
      "outputs": []
    },
    {
      "cell_type": "markdown",
      "source": [
        "# Parametrizando as variaveis"
      ],
      "metadata": {
        "id": "wqHOjUE_ZC2S"
      }
    },
    {
      "cell_type": "code",
      "source": [
        "# configurando os parametros\n",
        "generation_config = {\n",
        "    \"candidate_count\":1, #modelo pode dar mais de uma resposta, vamos escolher a primeira resposta\n",
        "    \"temperature\":0.5 # 0 -> modelo pouco criativo, 1-> modelo muito criativo\n",
        "\n",
        "}"
      ],
      "metadata": {
        "id": "pbfnoOM1ZGBH"
      },
      "execution_count": 22,
      "outputs": []
    },
    {
      "cell_type": "code",
      "source": [
        "# configuracoes de seguranca\n",
        "safety_settings = {\n",
        "    \"HARASSMENT\":\"BLOCK_NONE\",\n",
        "    \"HATE\":\"BLOCK_NONE\",\n",
        "    \"SEXUAL\":\"BLOCK_NONE\",\n",
        "    \"DANGEROUS\":\"BLOCK_NONE\"\n",
        "}"
      ],
      "metadata": {
        "id": "JqPXRdN7Z7Zl"
      },
      "execution_count": 23,
      "outputs": []
    },
    {
      "cell_type": "markdown",
      "source": [
        "# Inicializando o modelo"
      ],
      "metadata": {
        "id": "x2nPUxuubPYw"
      }
    },
    {
      "cell_type": "code",
      "source": [
        "model = genai.GenerativeModel(model_name=\"gemini-1.0-pro\", generation_config=generation_config, safety_settings=safety_settings)"
      ],
      "metadata": {
        "id": "ISNcS8SSbRJk"
      },
      "execution_count": 24,
      "outputs": []
    },
    {
      "cell_type": "code",
      "source": [
        "# testando o gemini\n",
        "# response = model.generate_content(\"Vamos aprender conteúdo sobre IA. Me dê sugestôes\")\n",
        "# print(response.text)"
      ],
      "metadata": {
        "id": "mfwZGyR3cBRD"
      },
      "execution_count": 25,
      "outputs": []
    },
    {
      "cell_type": "code",
      "source": [
        "chat = model.start_chat(history=[])"
      ],
      "metadata": {
        "id": "a0hT9rxqcntH"
      },
      "execution_count": 26,
      "outputs": []
    },
    {
      "cell_type": "code",
      "source": [
        "prompt = input(\"Esperando prompt:\")\n",
        "while (prompt != \"fim\"):\n",
        "  response = chat.send_message(prompt)\n",
        "  print(f'resposta: {response.text}')\n",
        "  prompt = input(\"Esperando prompt:\")\n",
        "\n"
      ],
      "metadata": {
        "colab": {
          "base_uri": "https://localhost:8080/",
          "height": 1000
        },
        "id": "047p45SqdJUk",
        "outputId": "b4e46e3b-1b8e-4c89-ab26-73dee4519944"
      },
      "execution_count": 27,
      "outputs": [
        {
          "name": "stdout",
          "output_type": "stream",
          "text": [
            "Esperando prompt:Qual a comida preferida dos italianos?\n",
            "resposta: Pizza\n",
            "Esperando prompt:Quais ingredientes?\n",
            "resposta: **Ingredientes para a massa:**\n",
            "\n",
            "* 500g de farinha de trigo tipo 00\n",
            "* 1 colher de sopa de fermento biológico seco\n",
            "* 1 colher de sopa de açúcar\n",
            "* 2 colheres de sopa de azeite\n",
            "* 1 colher de chá de sal\n",
            "* 250ml de água morna\n",
            "\n",
            "**Ingredientes para o molho de tomate:**\n",
            "\n",
            "* 1 lata (400g) de tomates pelados\n",
            "* 1 cebola picada\n",
            "* 2 dentes de alho picados\n",
            "* 1 colher de sopa de azeite\n",
            "* 1 colher de chá de orégano\n",
            "* 1 colher de chá de manjericão\n",
            "* Sal e pimenta a gosto\n",
            "\n",
            "**Ingredientes para a cobertura:**\n",
            "\n",
            "* 250g de mussarela ralada\n",
            "* 100g de presunto fatiado\n",
            "* 100g de cogumelos fatiados\n",
            "* Azeitonas pretas a gosto\n",
            "\n",
            "**Instruções:**\n",
            "\n",
            "**Para a massa:**\n",
            "\n",
            "1. Em uma tigela grande, misture a farinha, o fermento, o açúcar, o azeite e o sal.\n",
            "2. Adicione gradualmente a água morna e misture até formar uma massa lisa e elástica.\n",
            "3. Sove a massa por 5-7 minutos até que fique macia e elástica.\n",
            "4. Coloque a massa em uma tigela untada com azeite, cubra com filme plástico e deixe crescer em local aquecido por 1 hora, ou até dobrar de volume.\n",
            "\n",
            "**Para o molho de tomate:**\n",
            "\n",
            "1. Em uma panela, aqueça o azeite em fogo médio.\n",
            "2. Adicione a cebola e o alho e refogue até ficarem macios.\n",
            "3. Adicione os tomates pelados, o orégano, o manjericão, o sal e a pimenta.\n",
            "4. Deixe ferver, depois reduza o fogo e cozinhe por 20-30 minutos, ou até o molho engrossar.\n",
            "\n",
            "**Para montar a pizza:**\n",
            "\n",
            "1. Pré-aqueça o forno a 250°C.\n",
            "2. Soque a massa e divida-a em duas bolas.\n",
            "3. Abra cada bola em um círculo de cerca de 30 cm de diâmetro.\n",
            "4. Coloque as massas em uma assadeira untada com azeite.\n",
            "5. Espalhe o molho de tomate sobre as massas, deixando uma borda de cerca de 2 cm.\n",
            "6. Cubra com a mussarela ralada, o presunto, os cogumelos e as azeitonas.\n",
            "7. Asse por 10-15 minutos, ou até que a crosta esteja dourada e o queijo derretido.\n",
            "8. Retire do forno e sirva imediatamente.\n",
            "Esperando prompt:fim\n"
          ]
        }
      ]
    },
    {
      "cell_type": "code",
      "source": [
        "chat.history"
      ],
      "metadata": {
        "colab": {
          "base_uri": "https://localhost:8080/"
        },
        "id": "FZOQ0Sw_fg3b",
        "outputId": "420147bb-0570-430f-ce0a-f09528d87e18"
      },
      "execution_count": 28,
      "outputs": [
        {
          "output_type": "execute_result",
          "data": {
            "text/plain": [
              "[parts {\n",
              "   text: \"Qual a comida preferida dos italianos?\"\n",
              " }\n",
              " role: \"user\",\n",
              " parts {\n",
              "   text: \"Pizza\"\n",
              " }\n",
              " role: \"model\",\n",
              " parts {\n",
              "   text: \"Quais ingredientes?\"\n",
              " }\n",
              " role: \"user\",\n",
              " parts {\n",
              "   text: \"**Ingredientes para a massa:**\\n\\n* 500g de farinha de trigo tipo 00\\n* 1 colher de sopa de fermento biol\\303\\263gico seco\\n* 1 colher de sopa de a\\303\\247\\303\\272car\\n* 2 colheres de sopa de azeite\\n* 1 colher de ch\\303\\241 de sal\\n* 250ml de \\303\\241gua morna\\n\\n**Ingredientes para o molho de tomate:**\\n\\n* 1 lata (400g) de tomates pelados\\n* 1 cebola picada\\n* 2 dentes de alho picados\\n* 1 colher de sopa de azeite\\n* 1 colher de ch\\303\\241 de or\\303\\251gano\\n* 1 colher de ch\\303\\241 de manjeric\\303\\243o\\n* Sal e pimenta a gosto\\n\\n**Ingredientes para a cobertura:**\\n\\n* 250g de mussarela ralada\\n* 100g de presunto fatiado\\n* 100g de cogumelos fatiados\\n* Azeitonas pretas a gosto\\n\\n**Instru\\303\\247\\303\\265es:**\\n\\n**Para a massa:**\\n\\n1. Em uma tigela grande, misture a farinha, o fermento, o a\\303\\247\\303\\272car, o azeite e o sal.\\n2. Adicione gradualmente a \\303\\241gua morna e misture at\\303\\251 formar uma massa lisa e el\\303\\241stica.\\n3. Sove a massa por 5-7 minutos at\\303\\251 que fique macia e el\\303\\241stica.\\n4. Coloque a massa em uma tigela untada com azeite, cubra com filme pl\\303\\241stico e deixe crescer em local aquecido por 1 hora, ou at\\303\\251 dobrar de volume.\\n\\n**Para o molho de tomate:**\\n\\n1. Em uma panela, aque\\303\\247a o azeite em fogo m\\303\\251dio.\\n2. Adicione a cebola e o alho e refogue at\\303\\251 ficarem macios.\\n3. Adicione os tomates pelados, o or\\303\\251gano, o manjeric\\303\\243o, o sal e a pimenta.\\n4. Deixe ferver, depois reduza o fogo e cozinhe por 20-30 minutos, ou at\\303\\251 o molho engrossar.\\n\\n**Para montar a pizza:**\\n\\n1. Pr\\303\\251-aque\\303\\247a o forno a 250\\302\\260C.\\n2. Soque a massa e divida-a em duas bolas.\\n3. Abra cada bola em um c\\303\\255rculo de cerca de 30 cm de di\\303\\242metro.\\n4. Coloque as massas em uma assadeira untada com azeite.\\n5. Espalhe o molho de tomate sobre as massas, deixando uma borda de cerca de 2 cm.\\n6. Cubra com a mussarela ralada, o presunto, os cogumelos e as azeitonas.\\n7. Asse por 10-15 minutos, ou at\\303\\251 que a crosta esteja dourada e o queijo derretido.\\n8. Retire do forno e sirva imediatamente.\"\n",
              " }\n",
              " role: \"model\"]"
            ]
          },
          "metadata": {},
          "execution_count": 28
        }
      ]
    },
    {
      "cell_type": "code",
      "source": [],
      "metadata": {
        "id": "mKiHhh4kdYuh"
      },
      "execution_count": null,
      "outputs": []
    }
  ]
}